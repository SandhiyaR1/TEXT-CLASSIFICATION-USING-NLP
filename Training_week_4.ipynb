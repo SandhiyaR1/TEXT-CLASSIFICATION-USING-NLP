{
  "nbformat": 4,
  "nbformat_minor": 0,
  "metadata": {
    "colab": {
      "provenance": []
    },
    "kernelspec": {
      "name": "python3",
      "display_name": "Python 3"
    },
    "language_info": {
      "name": "python"
    }
  },
  "cells": [
    {
      "cell_type": "code",
      "execution_count": 50,
      "metadata": {
        "id": "1FXTUzj2XuXD"
      },
      "outputs": [],
      "source": [
        "import spacy\n",
        "import pandas as pd\n",
        "from sklearn.feature_extraction.text import TfidfVectorizer\n",
        "from sklearn.linear_model import LogisticRegression\n",
        "from sklearn.model_selection import train_test_split\n",
        "from sklearn.metrics import accuracy_score"
      ]
    },
    {
      "cell_type": "code",
      "source": [
        "nlp = spacy.load(\"en_core_web_sm\")"
      ],
      "metadata": {
        "id": "xwRJjkoXX7wB"
      },
      "execution_count": 51,
      "outputs": []
    },
    {
      "cell_type": "code",
      "source": [
        "word= {\n",
        "    'resume': [\n",
        "        \"Experienced Python developer...\",\n",
        "        \"Full-stack software engineer...\",\n",
        "        \"Digital marketing specialist...\",\n",
        "        \"SEO and content strategist...\",\n",
        "        \"Junior data scientist...\",\n",
        "        \"ML and AI expert...\",\n",
        "        \"Agile project manager...\",\n",
        "        \"Scrum team leader...\",\n",
        "        \"Accounting intern with Excel...\",\n",
        "        \"CPA with finance background...\"\n",
        "    ],\n",
        "    'category': [\n",
        "        'Software Engineer',\n",
        "        'Software Engineer',\n",
        "        'Marketing',\n",
        "        'Marketing',\n",
        "        'Data Science',\n",
        "        'Data Science',\n",
        "        'Project Management',\n",
        "        'Project Management',\n",
        "        'Accounting',\n",
        "        'Accounting'\n",
        "    ]\n",
        "}\n",
        "\n"
      ],
      "metadata": {
        "id": "kanXivqrX-BI"
      },
      "execution_count": 77,
      "outputs": []
    },
    {
      "cell_type": "code",
      "source": [
        "df = pd.DataFrame(word)"
      ],
      "metadata": {
        "id": "x9CpQFXBYQ7w"
      },
      "execution_count": 78,
      "outputs": []
    },
    {
      "cell_type": "code",
      "source": [
        "def preprocess(text):\n",
        "    doc = nlp(text)\n",
        "    tokens = [\n",
        "        token.lemma_.lower() for token in doc\n",
        "        if not token.is_stop and not token.is_punct and not token.is_space\n",
        "    ]\n",
        "    return \" \".join(tokens)"
      ],
      "metadata": {
        "id": "YMXVt2vJYXqt"
      },
      "execution_count": 79,
      "outputs": []
    },
    {
      "cell_type": "code",
      "source": [
        "df['cleaned'] = df['resume'].apply(preprocess)\n"
      ],
      "metadata": {
        "id": "dFbqTeHYYaK3"
      },
      "execution_count": 80,
      "outputs": []
    },
    {
      "cell_type": "code",
      "source": [
        "vectorizer = TfidfVectorizer()\n",
        "X = vectorizer.fit_transform(df['cleaned'])"
      ],
      "metadata": {
        "id": "mTXxnEehYdkB"
      },
      "execution_count": 81,
      "outputs": []
    },
    {
      "cell_type": "code",
      "source": [
        "X_train, X_test, y_train, y_test = train_test_split(X, y, test_size=0.5, random_state=42)"
      ],
      "metadata": {
        "id": "NRsDMXASYgCx"
      },
      "execution_count": 85,
      "outputs": []
    },
    {
      "cell_type": "code",
      "source": [
        "y_pred = clf.predict(X_test)\n",
        "accuracy = accuracy_score(y_test, y_pred)\n",
        "\n",
        "print(\"Accuracy:\", accuracy)"
      ],
      "metadata": {
        "colab": {
          "base_uri": "https://localhost:8080/"
        },
        "id": "rPSaHtm8Yjgp",
        "outputId": "2fcd78b0-c726-4d41-ff53-3347befe084e"
      },
      "execution_count": 86,
      "outputs": [
        {
          "output_type": "stream",
          "name": "stdout",
          "text": [
            "Accuracy: 0.6\n"
          ]
        }
      ]
    },
    {
      "cell_type": "code",
      "source": [],
      "metadata": {
        "id": "DGUO_iWBawdC"
      },
      "execution_count": null,
      "outputs": []
    }
  ]
}